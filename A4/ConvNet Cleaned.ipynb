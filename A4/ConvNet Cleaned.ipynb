{
 "cells": [
  {
   "cell_type": "code",
   "execution_count": 1,
   "metadata": {},
   "outputs": [],
   "source": [
    "from sklearn.metrics import confusion_matrix, classification_report, accuracy_score\n",
    "\n",
    "import numpy as np\n",
    "import torch\n",
    "import torch.nn as nn\n",
    "import torch.nn.functional as F\n",
    "import cv2\n",
    "\n",
    "from torch.optim import Adam\n",
    "from torch.utils.data import DataLoader,random_split\n",
    "from torchvision import transforms\n",
    "from torchvision.datasets import ImageFolder\n",
    "from PIL import Image\n",
    "\n",
    "from livelossplot import PlotLosses\n",
    "import copy\n",
    "from nnet import *"
   ]
  },
  {
   "cell_type": "code",
   "execution_count": null,
   "metadata": {},
   "outputs": [],
   "source": [
    "im = Image.open(\"data/train/Pause/20191027_023010_098.jpg\")\n",
    "im.show()"
   ]
  },
  {
   "cell_type": "code",
   "execution_count": 2,
   "metadata": {},
   "outputs": [],
   "source": [
    "IMAGE_X = 50\n",
    "IMAGE_Y = 50\n",
    "\n",
    "TRAIN_DATA_PATH = './data/train/'\n",
    "\n",
    "VALIDATION_SPLIT_SIZE = 0.1\n",
    "\n",
    "BATCH_SIZE = 4\n",
    "NUM_WORKERS = 2\n",
    "SHUFFLE = True\n",
    "\n",
    "LR = 0.01\n",
    "EPOCH = 10\n",
    "\n",
    "DROPOUT = 0.1\n",
    "\n",
    "def get_binary(img_gray):\n",
    "#     blur = cv2.GaussianBlur(img_gray, (5, 5), 0)\n",
    "    thresh = cv2.threshold(img_gray, 128, 255, cv2.THRESH_BINARY)[1]\n",
    "#     gauss = cv2.GaussianBlur(img_gray, (5, 5), 0)\n",
    "#     thresh = cv2.adaptiveThreshold(img_gray, 200, cv2.ADAPTIVE_THRESH_GAUSSIAN_C, cv2.THRESH_BINARY, 11, 10)\n",
    "    thresh = thresh[:,:,np.newaxis]\n",
    "    return thresh\n",
    "\n",
    "def add_channels(img):\n",
    "    openCVim = np.array(img)\n",
    "#     print(openCVim.shape)\n",
    "    img_gray = cv2.cvtColor(openCVim, cv2.COLOR_BGR2GRAY)\n",
    "#     thresh = get_binary(img_gray)\n",
    "    img_gray = img_gray[:,:,np.newaxis]\n",
    "    img_combined = np.concatenate((openCVim, img_gray), axis=2)\n",
    "#     img_combined = np.concatenate((openCVim, img_gray, thresh), axis=2)\n",
    "#     print(\"grayscale-correct: \", img_gray.shape)\n",
    "#     print(\"threshold-correct: \", thresh.shape)\n",
    "#     print(\"img_combined-correct: \", img_combined.shape)\n",
    "#     print(\"grayscale: \", img_gray.shape)\n",
    "#     print(\"threshold: \", thresh.shape)\n",
    "#     print(\"img_combined: \", img_combined.shape)\n",
    "    PILim = Image.fromarray(img_combined)\n",
    "\n",
    "    return PILim\n",
    "\n",
    "TRANSFORM = transforms.Compose(\n",
    "[\n",
    "    transforms.Lambda(add_channels),\n",
    "transforms.Resize((IMAGE_X,IMAGE_Y)),\n",
    " transforms.ToTensor(),\n",
    " transforms.Normalize((0.5, 0.5, 0.5, 0.5), (0.5, 0.5, 0.5, 0.5))])\n",
    "#  transforms.Normalize((0.5, 0.5, 0.5), (0.5, 0.5, 0.5))])"
   ]
  },
  {
   "cell_type": "code",
   "execution_count": 3,
   "metadata": {},
   "outputs": [],
   "source": [
    "def load_dataset_from_folder():\n",
    "    all_data = ImageFolder(\n",
    "        root = TRAIN_DATA_PATH,\n",
    "        transform = TRANSFORM\n",
    "    )\n",
    "    \n",
    "    classes = all_data.classes\n",
    "    print(all_data.class_to_idx)\n",
    "    validation_size = int(VALIDATION_SPLIT_SIZE * len(all_data))\n",
    "    train_size = len(all_data) - validation_size\n",
    "    train_dataset, test_dataset = torch.utils.data.random_split(all_data, [train_size, validation_size])\n",
    "\n",
    "    training_data_loader = DataLoader(\n",
    "        train_dataset,\n",
    "        batch_size=BATCH_SIZE,\n",
    "        num_workers=NUM_WORKERS,\n",
    "        shuffle=SHUFFLE\n",
    "    )\n",
    "    \n",
    "    validation_dataset_loader = DataLoader(\n",
    "        test_dataset,\n",
    "        batch_size=BATCH_SIZE,\n",
    "        num_workers=NUM_WORKERS,\n",
    "        shuffle=SHUFFLE\n",
    "    )\n",
    "        \n",
    "    return training_data_loader,validation_dataset_loader,classes\n"
   ]
  },
  {
   "cell_type": "code",
   "execution_count": 4,
   "metadata": {},
   "outputs": [
    {
     "name": "stdout",
     "output_type": "stream",
     "text": [
      "Net(\n",
      "  (layer1): Sequential(\n",
      "    (0): Conv2d(4, 32, kernel_size=(3, 3), stride=(2, 2))\n",
      "    (1): Dropout2d(p=0.1, inplace=False)\n",
      "    (2): ReLU()\n",
      "    (3): MaxPool2d(kernel_size=2, stride=2, padding=0, dilation=1, ceil_mode=False)\n",
      "  )\n",
      "  (layer2): Sequential(\n",
      "    (0): Conv2d(32, 64, kernel_size=(3, 3), stride=(2, 2))\n",
      "    (1): Dropout2d(p=0.1, inplace=False)\n",
      "    (2): ReLU()\n",
      "    (3): MaxPool2d(kernel_size=2, stride=2, padding=0, dilation=1, ceil_mode=False)\n",
      "  )\n",
      "  (drop_out): Dropout(p=0.1, inplace=False)\n",
      "  (fc1): Sequential(\n",
      "    (0): Linear(in_features=256, out_features=2048, bias=True)\n",
      "    (1): ReLU()\n",
      "  )\n",
      "  (fc2): Sequential(\n",
      "    (0): Linear(in_features=2048, out_features=4, bias=True)\n",
      "    (1): ReLU()\n",
      "  )\n",
      "  (sof): LogSoftmax()\n",
      ")\n"
     ]
    }
   ],
   "source": [
    "model = Net()\n",
    "\n",
    "# Defining the optimizer\n",
    "optimizer = Adam(model.parameters(), lr=LR)\n",
    "\n",
    "# Defining the loss function\n",
    "criterion = nn.CrossEntropyLoss()\n",
    "\n",
    "# Checking if GPU is available\n",
    "if torch.cuda.is_available():\n",
    "    print('Found Cuda')\n",
    "    model = model.cuda()\n",
    "    criterion = criterion.cuda()\n",
    "    \n",
    "print(model)"
   ]
  },
  {
   "cell_type": "code",
   "execution_count": 5,
   "metadata": {},
   "outputs": [
    {
     "name": "stdout",
     "output_type": "stream",
     "text": [
      "{'Next': 0, 'Others': 1, 'Pause': 2, 'Prev': 3}\n",
      "['Next', 'Others', 'Pause', 'Prev']\n"
     ]
    }
   ],
   "source": [
    "train_generator,test_generator,classes = load_dataset_from_folder()\n",
    "print(classes)\n",
    "# for x,y in train_generator:\n",
    "#     continue"
   ]
  },
  {
   "cell_type": "code",
   "execution_count": 6,
   "metadata": {
    "scrolled": true
   },
   "outputs": [
    {
     "data": {
      "image/png": "[encoded data removed]",
      "text/plain": [
       "<Figure size 432x288 with 1 Axes>"
      ]
     },
     "metadata": {
      "needs_background": "light"
     },
     "output_type": "display_data"
    },
    {
     "data": {
      "image/png": "[encoded data removed]",
      "text/plain": [
       "<Figure size 432x288 with 1 Axes>"
      ]
     },
     "metadata": {
      "needs_background": "light"
     },
     "output_type": "display_data"
    },
    {
     "name": "stdout",
     "output_type": "stream",
     "text": [
      " Next Pause Pause  Next\n"
     ]
    }
   ],
   "source": [
    "import matplotlib.pyplot as plt\n",
    "import numpy as np\n",
    "import torchvision\n",
    "# functions to show an image\n",
    "def imshow(img):\n",
    "    img = img / 2 + 0.5     # unnormalize\n",
    "    npimg = img.numpy()\n",
    "#     plt.imshow(np.transpose(npimg, (1, 2, 0)))\n",
    "    plt.imshow(np.transpose(npimg, (1, 2, 0)))\n",
    "    plt.show()\n",
    "\n",
    "def get_rgb_img(tensor_batch):\n",
    "    modif = tensor_batch[:,:3,:,:]\n",
    "#     print(tensor_batch)\n",
    "    return modif\n",
    "\n",
    "def get_grayscale(tensor_batch):\n",
    "    modif = tensor_batch[:,3:4,:,:]\n",
    "    return modif\n",
    "\n",
    "# def get_threshold(tensor_batch):\n",
    "#     modif = tensor_batch[:,4:5,:,:]\n",
    "#     return modif\n",
    "\n",
    "# get some random training images\n",
    "dataiter = iter(train_generator)\n",
    "images, labels = dataiter.next()\n",
    "# show images\n",
    "imshow(torchvision.utils.make_grid(get_rgb_img(images)))\n",
    "imshow(torchvision.utils.make_grid(get_grayscale(images)))\n",
    "# imshow(torchvision.utils.make_grid(get_threshold(images)))\n",
    "\n",
    "# print labels\n",
    "print(' '.join('%5s' % classes[labels[j]] for j in range(4)))"
   ]
  },
  {
   "cell_type": "code",
   "execution_count": 7,
   "metadata": {
    "scrolled": false
   },
   "outputs": [
    {
     "data": {
      "image/png": "[encoded data removed]",
      "text/plain": [
       "<Figure size 864x576 with 1 Axes>"
      ]
     },
     "metadata": {
      "needs_background": "light"
     },
     "output_type": "display_data"
    },
    {
     "name": "stdout",
     "output_type": "stream",
     "text": [
      "accuracy:\n",
      "training   (min:    0.111, max:    0.167, cur:    0.167)\n",
      "validation (min:    1.000, max:    1.000, cur:    1.000)\n"
     ]
    }
   ],
   "source": [
    "liveloss = PlotLosses()\n",
    "\n",
    "for epoch in range(EPOCH):\n",
    "    logs = {}\n",
    "\n",
    "    running_loss = 0.0\n",
    "    running_acc = 0.0\n",
    "    for step,(x,y) in enumerate(train_generator):\n",
    "        optimizer.zero_grad()\n",
    "        outputs = model(x)\n",
    "        loss = criterion(outputs, y)\n",
    "        loss.backward()\n",
    "        optimizer.step()\n",
    "        running_loss += loss.item()\n",
    "        _, preds = torch.max(outputs, 1)\n",
    "        running_acc += torch.sum(preds == y)\n",
    "        \n",
    "    epoch_acc = running_acc.float() / len(train_generator.dataset)\n",
    "\n",
    "#     print('[%d] Training loss: %.3f' %(epoch + 1, running_loss))\n",
    "\n",
    "#     logs['log loss'] = running_loss\n",
    "    logs['accuracy'] = epoch_acc\n",
    "    \n",
    "    validation_loss = 0.0\n",
    "    val_acc = 0.0\n",
    "    with torch.no_grad():\n",
    "        for step,(x,y) in enumerate(test_generator):\n",
    "            outputs = model(x)\n",
    "            loss = criterion(outputs, y)\n",
    "            _, preds = torch.max(outputs, 1)\n",
    "#             print(preds)\n",
    "            validation_loss += loss.item()\n",
    "            val_acc += torch.sum(preds == y)\n",
    "#     print('[%d] Validation loss: %.3f' %(epoch + 1, validation_loss))\n",
    "    \n",
    "    val_fin_acc = val_acc.float() / len(test_generator.dataset)\n",
    "#     logs['val_log loss'] = validation_loss\n",
    "    logs['val_accuracy'] = val_fin_acc\n",
    "    liveloss.update(logs)\n",
    "    liveloss.draw()\n",
    "    model.save(\"model/test_model\")"
   ]
  },
  {
   "cell_type": "code",
   "execution_count": null,
   "metadata": {},
   "outputs": [],
   "source": []
  }
 ],
 "metadata": {
  "kernelspec": {
   "display_name": "venv",
   "language": "python",
   "name": "venv"
  },
  "language_info": {
   "codemirror_mode": {
    "name": "ipython",
    "version": 3
   },
   "file_extension": ".py",
   "mimetype": "text/x-python",
   "name": "python",
   "nbconvert_exporter": "python",
   "pygments_lexer": "ipython3",
   "version": "3.6.8"
  }
 },
 "nbformat": 4,
 "nbformat_minor": 2
}
